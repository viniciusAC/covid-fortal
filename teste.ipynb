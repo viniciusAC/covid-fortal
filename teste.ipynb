{
 "metadata": {
  "language_info": {
   "codemirror_mode": {
    "name": "ipython",
    "version": 3
   },
   "file_extension": ".py",
   "mimetype": "text/x-python",
   "name": "python",
   "nbconvert_exporter": "python",
   "pygments_lexer": "ipython3",
   "version": "3.8.3"
  },
  "orig_nbformat": 2,
  "kernelspec": {
   "name": "python3",
   "display_name": "Python 3.8.3 64-bit ('base': conda)"
  },
  "interpreter": {
   "hash": "4a92a670bdfac293d3e5444aaf4630d76d81ddee074f9b8d16032a483dd9b2ae"
  }
 },
 "nbformat": 4,
 "nbformat_minor": 2,
 "cells": [
  {
   "cell_type": "code",
   "execution_count": 1,
   "metadata": {},
   "outputs": [],
   "source": [
    "import requests\n",
    "import pandas as pd\n",
    "import io\n",
    "import datetime\n",
    "from datetime import timedelta\n",
    "import numpy as np\n",
    "import pandas as pd\n",
    "import datetime\n",
    "import Levenshtein\n",
    "\n",
    "import zipfile\n",
    "import os\n",
    "import shutil\n",
    "import glob\n",
    "\n",
    "import json\n",
    "from urllib.request import urlopen\n",
    "import plotly.express as px\n",
    "\n",
    "from funcoes_auxiliares.otimizacao import *\n",
    "from funcoes_auxiliares.pre_proces import *\n",
    "from funcoes_auxiliares.request_integraSus import *\n",
    "from funcoes_auxiliares.request_openDataSus import *"
   ]
  },
  {
   "cell_type": "code",
   "execution_count": 2,
   "metadata": {},
   "outputs": [],
   "source": [
    "data = pd.read_csv('Base de dados/dados_limpos.csv', sep=';')\n",
    "data = data.drop(['Unnamed: 0'], axis=1)\n",
    "data['dataCaso'] = pd.to_datetime(data['dataCaso'])\n",
    "data['dataCaso'] = data['dataCaso'].dt.date"
   ]
  },
  {
   "cell_type": "code",
   "execution_count": 3,
   "metadata": {},
   "outputs": [
    {
     "output_type": "execute_result",
     "data": {
      "text/plain": [
       "datetime.date(2021, 6, 2)"
      ]
     },
     "metadata": {},
     "execution_count": 3
    }
   ],
   "source": [
    "data['dataCaso'].max() - datetime.timedelta(14)"
   ]
  },
  {
   "cell_type": "code",
   "execution_count": null,
   "metadata": {},
   "outputs": [],
   "source": []
  }
 ]
}